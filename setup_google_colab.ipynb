{
 "cells": [
  {
   "cell_type": "code",
   "execution_count": null,
   "metadata": {
    "colab": {
     "base_uri": "https://localhost:8080/",
     "height": 490
    },
    "colab_type": "code",
    "executionInfo": {
     "elapsed": 14187,
     "status": "ok",
     "timestamp": 1589459539379,
     "user": {
      "displayName": "Stefan Borasinski",
      "photoUrl": "",
      "userId": "16418223541793176065"
     },
     "user_tz": -60
    },
    "id": "jIBzaXoytKMj",
    "outputId": "01fb3202-3666-449f-b152-42062e2e19e5"
   },
   "outputs": [],
   "source": [
    "#import key packages\n",
    "import os\n",
    "import nltk\n",
    "!pip install --upgrade gensim\n",
    "!pip install git+https://github.com/demotomohiro/remocolab.git #ssh into colab instance\n",
    "!pip install jupyterlab #develop directly on colab instance\n",
    "! pip install file.io-cli #python package for uploading large files\n",
    "nltk.download('punkt')"
   ]
  },
  {
   "cell_type": "code",
   "execution_count": null,
   "metadata": {},
   "outputs": [],
   "source": [
    "#get more ram by exceeding default allocation. should only need to do once\n",
    "from gensim.models.fasttext import FastText\n",
    "mod = FastText.load_fasttext_format(r'ANLP/embeddings/wiki-news-300d-1M-subword.bin')"
   ]
  },
  {
   "cell_type": "code",
   "execution_count": null,
   "metadata": {},
   "outputs": [],
   "source": [
    "os.chdir('/content')\n",
    "from google.colab import files\n",
    "uploaded = files.upload() #upload ssh.tar.gz for connecting to (private github) repository via ssh. allows seamless pushing and pulling of files from project repository, more reliable than gdrive solution\n",
    "#see https://towardsdatascience.com/using-git-with-colab-via-ssh-175e8f3751ec for details on how to create ssh.tar.gz"
   ]
  },
  {
   "cell_type": "code",
   "execution_count": null,
   "metadata": {},
   "outputs": [],
   "source": [
    "#or link to google drive. simple alternative to setting up ssh to github repository, but in practice found to be a little too unreliable\n",
    "from google.colab import drive\n",
    "drive.mount('/content/gdrive/')"
   ]
  },
  {
   "cell_type": "code",
   "execution_count": null,
   "metadata": {
    "colab": {
     "base_uri": "https://localhost:8080/",
     "height": 1000
    },
    "colab_type": "code",
    "executionInfo": {
     "elapsed": 204318,
     "status": "ok",
     "timestamp": 1589459762763,
     "user": {
      "displayName": "Stefan Borasinski",
      "photoUrl": "",
      "userId": "16418223541793176065"
     },
     "user_tz": -60
    },
    "id": "oFqlAouoJjOY",
    "outputId": "fc01d705-b654-4282-8945-023b89706740"
   },
   "outputs": [],
   "source": [
    "#set up ssh into colab instance\n",
    "import remocolab\n",
    "os.chdir('/content')\n",
    "remocolab.setupSSHD()"
   ]
  },
  {
   "cell_type": "code",
   "execution_count": null,
   "metadata": {},
   "outputs": [],
   "source": [
    "#the following commands are best performed in a bash shell, atlhough most can also be done directly fromt he notebook"
   ]
  },
  {
   "cell_type": "code",
   "execution_count": null,
   "metadata": {
    "colab": {},
    "colab_type": "code",
    "id": "vytBsblo330O"
   },
   "outputs": [],
   "source": [
    "#setup github ssh permissions if using and clone repository into remote content directory\n",
    "\n",
    "! cd /content && rm -rf /root/.ssh && mkdir /root/.ssh && tar -xvzf ssh.tar.gz && cp ssh-colab/* /root/.ssh && rm -rf ssh-colab && rm -rf ssh.tar.gz && chmod 700 /root/.ssh && touch /root/.ssh/known_hosts\n",
    "! ssh-keyscan github.com >> /root/.ssh/known_hosts && chmod 644 /root/.ssh/known_hosts && cd / && ssh-agent bin/bash\n",
    "! ssh-add /root/.ssh/id_rsa_colab && git config --global user.email \"your_email@gmail.com\" && git config --global user.name \"your_username\" && cd /content && git clone git@github.com:your_username/your_repostiry.git\n"
   ]
  },
  {
   "cell_type": "code",
   "execution_count": null,
   "metadata": {
    "colab": {
     "base_uri": "https://localhost:8080/",
     "height": 128
    },
    "colab_type": "code",
    "executionInfo": {
     "elapsed": 500,
     "status": "error",
     "timestamp": 1589202579270,
     "user": {
      "displayName": "Stefan Borasinski",
      "photoUrl": "",
      "userId": "16418223541793176065"
     },
     "user_tz": -60
    },
    "id": "NqmRYrm47J_o",
    "outputId": "bd4cb005-dc79-4c51-cc67-bf3539420386"
   },
   "outputs": [],
   "source": [
    "! cd /content && git clone https://github.com/stefanborasinski/ANLP.git\n",
    "cd ANLP && mkdir embeddings && cd embeddings\n",
    "#download fasttext wikinews pretrained vector\n",
    "! wget \"https://dl.fbaipublicfiles.com/fasttext/vectors-english/wiki-news-300d-1M-subword.bin.zip\" && unzip 'wiki-news-300d-1M-subword.bin.zip' && rm -rf 'wiki-news-300d-1M-subword.bin.zip'\n",
    "#download word2vec googlenews pretrained vector\n",
    "wget \"https://s3.amazonaws.com/dl4j-distribution/GoogleNews-vectors-negative300.bin.gz\" && gunzip 'GoogleNews-vectors-negative300.bin.gz' && rm -rf 'GoogleNews-vectors-negative300.bin.gz'"
   ]
  },
  {
   "cell_type": "code",
   "execution_count": null,
   "metadata": {
    "colab": {},
    "colab_type": "code",
    "id": "EYaCG2EgwV14"
   },
   "outputs": [],
   "source": [
    "#install tmux and port forward jupyterlab server. must be done in bash shell\n",
    "! cd /content && export LD_PRELOAD=/usr/lib64-nvidia/libnvidia-ml.so && sudo apt-get install tmux && tmux && jupyter lab --ip 0.0.0.0 --no-browser --allow-root\n",
    "#press ctrl b + \" to open new window in tmux\n",
    "! sudo ./ngrok http 8888\n",
    "#then copy ngrok link to open jupyter lab in browser and develop directly on colab instance without having to use notebooks"
   ]
  },
  {
   "cell_type": "code",
   "execution_count": null,
   "metadata": {
    "colab": {
     "base_uri": "https://localhost:8080/",
     "height": 1000
    },
    "colab_type": "code",
    "executionInfo": {
     "elapsed": 415189,
     "status": "error",
     "timestamp": 1589203585217,
     "user": {
      "displayName": "Stefan Borasinski",
      "photoUrl": "",
      "userId": "16418223541793176065"
     },
     "user_tz": -60
    },
    "id": "7LkFelkcVVeM",
    "outputId": "a88a41fc-5e4e-4e8e-d5f3-c3e65704f413"
   },
   "outputs": [],
   "source": [
    "#keep colab frontend budy whilst working on jupyterlab. should prevent disconnects. will disconnect when maximum runtime is reached, somewhere between 8-12hrs after opening session\n",
    "import time\n",
    "starttime=time.time()\n",
    "while True:\n",
    "  print((time.time() - starttime))\n",
    "  time.sleep(300.0 - ((time.time() - starttime) % 300.0))"
   ]
  },
  {
   "cell_type": "code",
   "execution_count": null,
   "metadata": {},
   "outputs": [],
   "source": [
    "# When done, kill ngrok port\n",
    "!kill $(ps aux | grep './ngrok' | awk '{print $2}')"
   ]
  }
 ],
 "metadata": {
  "accelerator": "GPU",
  "colab": {
   "collapsed_sections": [],
   "machine_shape": "hm",
   "name": "Copy of CUDA_GPU-server.ipynb",
   "provenance": [
    {
     "file_id": "https://github.com/imadelh/comments/blob/master/CUDA_GPU-server.ipynb",
     "timestamp": 1585001425098
    }
   ]
  },
  "kernelspec": {
   "display_name": "Python 3",
   "language": "python",
   "name": "python3"
  },
  "language_info": {
   "codemirror_mode": {
    "name": "ipython",
    "version": 3
   },
   "file_extension": ".py",
   "mimetype": "text/x-python",
   "name": "python",
   "nbconvert_exporter": "python",
   "pygments_lexer": "ipython3",
   "version": "3.6.9"
  }
 },
 "nbformat": 4,
 "nbformat_minor": 4
}
